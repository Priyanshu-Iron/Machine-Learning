{
 "cells": [
  {
   "cell_type": "markdown",
   "id": "934c811e11352867",
   "metadata": {},
   "source": [
    "NumPy Learning"
   ]
  },
  {
   "cell_type": "code",
   "execution_count": null,
   "id": "initial_id",
   "metadata": {},
   "outputs": [],
   "source": [
    "# np.array\n",
    "import numpy as np\n",
    "\n",
    "#1D Array\n",
    "vector = np.array([1,2,3])\n",
    "print(type(vector))\n",
    "print(vector)"
   ]
  },
  {
   "cell_type": "code",
   "execution_count": null,
   "id": "13ef370577f36052",
   "metadata": {},
   "outputs": [],
   "source": [
    "#2D Array\n",
    "matrices = np.array([[1,2,3],[4,5,6]])\n",
    "print(matrices)"
   ]
  },
  {
   "cell_type": "code",
   "execution_count": null,
   "id": "8ba56bb845ae5398",
   "metadata": {},
   "outputs": [],
   "source": [
    "#3D Array\n",
    "tensor = np.array([[1,2,3],[4,5,6],[7,8,9],[10,11,12]])\n",
    "print(tensor)"
   ]
  },
  {
   "cell_type": "code",
   "execution_count": null,
   "id": "360183cb6170fe7b",
   "metadata": {},
   "outputs": [],
   "source": [
    "#dtype\n",
    "np.array([1,2,3],dtype=float)"
   ]
  },
  {
   "cell_type": "code",
   "execution_count": null,
   "id": "1eaf7dab0941a42c",
   "metadata": {},
   "outputs": [],
   "source": [
    "#np.arange\n",
    "np.arange(1,11)"
   ]
  },
  {
   "cell_type": "code",
   "execution_count": null,
   "id": "37669b807999fd4d",
   "metadata": {},
   "outputs": [],
   "source": [
    "#With reshape\n",
    "np.arange(1,13).reshape(4,3)"
   ]
  },
  {
   "cell_type": "code",
   "execution_count": null,
   "id": "739e265986de136b",
   "metadata": {},
   "outputs": [],
   "source": [
    "#np.ones\n",
    "np.ones((3,4))"
   ]
  },
  {
   "cell_type": "code",
   "execution_count": null,
   "id": "e51438e9d663ce94",
   "metadata": {},
   "outputs": [],
   "source": [
    "#np.zeros\n",
    "np.zeros((2,2))"
   ]
  },
  {
   "cell_type": "code",
   "execution_count": null,
   "id": "cee13dcd25ef3e7e",
   "metadata": {},
   "outputs": [],
   "source": [
    "#np.random\n",
    "np.random.random((3,4))"
   ]
  },
  {
   "cell_type": "code",
   "execution_count": null,
   "id": "cbaed336f24923db",
   "metadata": {},
   "outputs": [],
   "source": [
    "#np.linspace\n",
    "np.linspace(-10,10,5)"
   ]
  },
  {
   "cell_type": "code",
   "execution_count": null,
   "id": "4d9f8105e656c4cf",
   "metadata": {},
   "outputs": [],
   "source": [
    "#np.identity\n",
    "np.identity(3)"
   ]
  },
  {
   "cell_type": "markdown",
   "id": "845e9ef0f58aceb",
   "metadata": {},
   "source": [
    "NumPy Array Attributes"
   ]
  },
  {
   "cell_type": "code",
   "execution_count": 13,
   "id": "9062b6ec0a7601c8",
   "metadata": {
    "tags": []
   },
   "outputs": [],
   "source": [
    "a1 = np.arange(10)\n",
    "a2 = np.arange(12,dtype=float).reshape(3,4)\n",
    "a3 = np.arange(8).reshape(2,2,2)"
   ]
  },
  {
   "cell_type": "code",
   "execution_count": null,
   "id": "bd79c70fdf000e55",
   "metadata": {},
   "outputs": [],
   "source": [
    "#ndim\n",
    "a1.ndim"
   ]
  },
  {
   "cell_type": "code",
   "execution_count": null,
   "id": "ac724c48499725b2",
   "metadata": {},
   "outputs": [],
   "source": [
    "#shape\n",
    "print(a3.shape)\n",
    "a3"
   ]
  },
  {
   "cell_type": "code",
   "execution_count": null,
   "id": "c319275c8d328564",
   "metadata": {},
   "outputs": [],
   "source": [
    "#size\n",
    "a3.size"
   ]
  },
  {
   "cell_type": "code",
   "execution_count": null,
   "id": "103d358616df8256",
   "metadata": {},
   "outputs": [],
   "source": [
    "#itemsize\n",
    "a2.itemsize"
   ]
  },
  {
   "cell_type": "code",
   "execution_count": null,
   "id": "efdcb3f7ab8dc98f",
   "metadata": {},
   "outputs": [],
   "source": [
    "#dtype\n",
    "print(a1.dtype)\n",
    "print(a2.dtype)\n",
    "print(a3.dtype)"
   ]
  },
  {
   "cell_type": "markdown",
   "id": "d6b2878413047331",
   "metadata": {},
   "source": [
    "Changing Datatype"
   ]
  },
  {
   "cell_type": "code",
   "execution_count": null,
   "id": "a2d4023d4655762c",
   "metadata": {},
   "outputs": [],
   "source": [
    "#astype\n",
    "a3.astype(np.int32)"
   ]
  },
  {
   "cell_type": "markdown",
   "id": "2d11d7f39062e3dd",
   "metadata": {},
   "source": [
    "Array Operations"
   ]
  },
  {
   "cell_type": "code",
   "execution_count": null,
   "id": "c245e3f4c8e5dd79",
   "metadata": {},
   "outputs": [],
   "source": [
    "a1 = np.arange(12).reshape(3,4)\n",
    "a2 = np.arange(12,24).reshape(3,4)\n",
    "\n",
    "print(a1)"
   ]
  },
  {
   "cell_type": "code",
   "execution_count": null,
   "id": "aa4053e07a792c9e",
   "metadata": {},
   "outputs": [],
   "source": [
    "#scalar operations\n",
    "\n",
    "#arithmetic\n",
    "print(a1+2)"
   ]
  },
  {
   "cell_type": "code",
   "execution_count": null,
   "id": "641843a7591f9e3d",
   "metadata": {},
   "outputs": [],
   "source": [
    "#relational\n",
    "a2>5"
   ]
  },
  {
   "cell_type": "code",
   "execution_count": null,
   "id": "3d38ed3ffb108895",
   "metadata": {},
   "outputs": [],
   "source": [
    "#vector operations\n",
    "#arthimetic\n",
    "\n",
    "print(a1+a2)\n",
    "# a1+a2"
   ]
  },
  {
   "cell_type": "markdown",
   "id": "4d6b1630013a0a7",
   "metadata": {},
   "source": [
    "Array Function"
   ]
  },
  {
   "cell_type": "code",
   "execution_count": null,
   "id": "5536163f30ec1725",
   "metadata": {},
   "outputs": [],
   "source": [
    "a1 = np.random.random((3,3))\n",
    "a1 = np.round(a1*100)\n",
    "a1"
   ]
  },
  {
   "cell_type": "code",
   "execution_count": null,
   "id": "21996e63d1f6772a",
   "metadata": {},
   "outputs": [],
   "source": [
    "#max/min/sum/prod\n",
    "np.max(a1)\n",
    "\n",
    "#for max/min/sum/prod in a specific row and column\n",
    "#0 -> col and 1 -> row\n",
    "np.max(a1,axis=1)"
   ]
  },
  {
   "cell_type": "code",
   "execution_count": null,
   "id": "68f040fce5080bf6",
   "metadata": {},
   "outputs": [],
   "source": [
    "# mean/median/std/var\n",
    "np.mean(a1)"
   ]
  },
  {
   "cell_type": "code",
   "execution_count": null,
   "id": "6138978d38d717be",
   "metadata": {},
   "outputs": [],
   "source": [
    "# trigonometric function\n",
    "np.sin(a1)"
   ]
  },
  {
   "cell_type": "code",
   "execution_count": null,
   "id": "3dee9fa8bc452569",
   "metadata": {},
   "outputs": [],
   "source": [
    "# dot product\n",
    "np.dot(np.random.random((3,3)),np.random.random((3,3)))"
   ]
  },
  {
   "cell_type": "code",
   "execution_count": null,
   "id": "91e1026616ece5ae",
   "metadata": {},
   "outputs": [],
   "source": [
    "# log and exponents\n",
    "np.exp(a1)"
   ]
  },
  {
   "cell_type": "code",
   "execution_count": null,
   "id": "70392004-b624-40d8-9774-0d8ba70d1371",
   "metadata": {
    "ExecuteTime": {
     "end_time": "2024-10-22T06:12:00.954494Z",
     "start_time": "2024-10-22T06:12:00.947558Z"
    }
   },
   "outputs": [],
   "source": [
    "# round/floor/cell\n",
    "np.round(np.random.random((2,3))*100)"
   ]
  },
  {
   "cell_type": "markdown",
   "id": "dce60286-461c-4023-8243-7310d96ad420",
   "metadata": {},
   "source": [
    "Indexing and Slicing"
   ]
  },
  {
   "cell_type": "code",
   "execution_count": null,
   "id": "5692a859-0fb2-4767-89f5-0026abdc5e2a",
   "metadata": {},
   "outputs": [],
   "source": [
    "a1 = np.arange(10)\n",
    "a2 = np.arange(12).reshape(3,4)\n",
    "a3 = np.arange(8).reshape(2,2,2)\n",
    "\n",
    "a1"
   ]
  },
  {
   "cell_type": "code",
   "execution_count": null,
   "id": "917fe119-58b9-40a9-ad3d-af36dd746cda",
   "metadata": {},
   "outputs": [],
   "source": [
    "# Indexing\n",
    "a1[-1]"
   ]
  },
  {
   "cell_type": "code",
   "execution_count": null,
   "id": "82955614",
   "metadata": {},
   "outputs": [],
   "source": [
    "a2"
   ]
  },
  {
   "cell_type": "code",
   "execution_count": null,
   "id": "2223fd06",
   "metadata": {},
   "outputs": [],
   "source": [
    "# Indexing\n",
    "a2[1,2]"
   ]
  },
  {
   "cell_type": "code",
   "execution_count": null,
   "id": "aa5126e7",
   "metadata": {},
   "outputs": [],
   "source": [
    "a3"
   ]
  },
  {
   "cell_type": "code",
   "execution_count": null,
   "id": "cec76753",
   "metadata": {},
   "outputs": [],
   "source": [
    "# Indexing\n",
    "a3[0,1,0]"
   ]
  },
  {
   "cell_type": "code",
   "execution_count": null,
   "id": "d67eed32",
   "metadata": {},
   "outputs": [],
   "source": [
    "# Slicing\n",
    "a1[2:5]"
   ]
  },
  {
   "cell_type": "code",
   "execution_count": null,
   "id": "a8031707",
   "metadata": {},
   "outputs": [],
   "source": [
    "# Slicing\n",
    "a2[0,:]"
   ]
  },
  {
   "cell_type": "code",
   "execution_count": null,
   "id": "0391a378",
   "metadata": {},
   "outputs": [],
   "source": [
    "# Slicing\n",
    "a2[1:,1:3]"
   ]
  },
  {
   "cell_type": "code",
   "execution_count": null,
   "id": "35c8a45c",
   "metadata": {},
   "outputs": [],
   "source": [
    "# Slicing\n",
    "a2[::2,::3]"
   ]
  },
  {
   "cell_type": "code",
   "execution_count": null,
   "id": "72833a02",
   "metadata": {},
   "outputs": [],
   "source": [
    "# Slicing\n",
    "a2[::2,1::2]"
   ]
  },
  {
   "cell_type": "markdown",
   "id": "6664b3c3",
   "metadata": {},
   "source": [
    "Iterating"
   ]
  },
  {
   "cell_type": "code",
   "execution_count": null,
   "id": "ca76ee50",
   "metadata": {},
   "outputs": [],
   "source": [
    "a1\n",
    "for i in a1:\n",
    "    print(i)"
   ]
  },
  {
   "cell_type": "code",
   "execution_count": null,
   "id": "1bed780d",
   "metadata": {},
   "outputs": [],
   "source": [
    "a2"
   ]
  },
  {
   "cell_type": "code",
   "execution_count": null,
   "id": "9ed3c0c0",
   "metadata": {},
   "outputs": [],
   "source": [
    "a3\n",
    "for i in np.nditer(a3):\n",
    "    print(i)"
   ]
  }
 ],
 "metadata": {
  "kernelspec": {
   "display_name": "Python 3",
   "language": "python",
   "name": "python3"
  },
  "language_info": {
   "codemirror_mode": {
    "name": "ipython",
    "version": 3
   },
   "file_extension": ".py",
   "mimetype": "text/x-python",
   "name": "python",
   "nbconvert_exporter": "python",
   "pygments_lexer": "ipython3",
   "version": "3.12.4"
  }
 },
 "nbformat": 4,
 "nbformat_minor": 5
}
