{
 "cells": [
  {
   "metadata": {},
   "cell_type": "markdown",
   "source": "NumPy Learning",
   "id": "934c811e11352867"
  },
  {
   "metadata": {
    "collapsed": true
   },
   "cell_type": "code",
   "source": [
    "# np.array\n",
    "import numpy as np\n",
    "\n",
    "#1D Array\n",
    "vector = np.array([1,2,3])\n",
    "print(type(vector))\n",
    "print(vector)"
   ],
   "id": "initial_id",
   "outputs": [],
   "execution_count": null
  },
  {
   "metadata": {},
   "cell_type": "code",
   "source": [
    "#2D Array\n",
    "matrices = np.array([[1,2,3],[4,5,6]])\n",
    "print(matrices)"
   ],
   "id": "13ef370577f36052",
   "outputs": [],
   "execution_count": null
  },
  {
   "metadata": {},
   "cell_type": "code",
   "source": [
    "#3D Array\n",
    "tensor = np.array([[1,2,3],[4,5,6],[7,8,9],[10,11,12]])\n",
    "print(tensor)"
   ],
   "id": "8ba56bb845ae5398",
   "outputs": [],
   "execution_count": null
  },
  {
   "metadata": {},
   "cell_type": "code",
   "source": [
    "#dtype\n",
    "np.array([1,2,3],dtype=float)"
   ],
   "id": "360183cb6170fe7b",
   "outputs": [],
   "execution_count": null
  },
  {
   "metadata": {},
   "cell_type": "code",
   "source": [
    "#np.arange\n",
    "np.arange(1,11)"
   ],
   "id": "1eaf7dab0941a42c",
   "outputs": [],
   "execution_count": null
  },
  {
   "metadata": {},
   "cell_type": "code",
   "source": [
    "#With reshape\n",
    "np.arange(1,13).reshape(4,3)"
   ],
   "id": "37669b807999fd4d",
   "outputs": [],
   "execution_count": null
  },
  {
   "metadata": {},
   "cell_type": "code",
   "source": [
    "#np.ones\n",
    "np.ones((3,4))"
   ],
   "id": "739e265986de136b",
   "outputs": [],
   "execution_count": null
  },
  {
   "metadata": {},
   "cell_type": "code",
   "source": [
    "#np.zeros\n",
    "np.zeros((2,2))"
   ],
   "id": "e51438e9d663ce94",
   "outputs": [],
   "execution_count": null
  },
  {
   "metadata": {},
   "cell_type": "code",
   "source": [
    "#np.random\n",
    "np.random.random((3,4))"
   ],
   "id": "cee13dcd25ef3e7e",
   "outputs": [],
   "execution_count": null
  },
  {
   "metadata": {},
   "cell_type": "code",
   "source": [
    "#np.linspace\n",
    "np.linspace(-10,10,5)"
   ],
   "id": "cbaed336f24923db",
   "outputs": [],
   "execution_count": null
  },
  {
   "metadata": {},
   "cell_type": "code",
   "source": [
    "#np.identity\n",
    "np.identity(3)"
   ],
   "id": "4d9f8105e656c4cf",
   "outputs": [],
   "execution_count": null
  },
  {
   "metadata": {},
   "cell_type": "markdown",
   "source": "NumPy Array Attributes",
   "id": "845e9ef0f58aceb"
  },
  {
   "metadata": {
    "tags": []
   },
   "cell_type": "code",
   "source": [
    "a1 = np.arange(10)\n",
    "a2 = np.arange(12,dtype=float).reshape(3,4)\n",
    "a3 = np.arange(8).reshape(2,2,2)"
   ],
   "id": "9062b6ec0a7601c8",
   "outputs": [],
   "execution_count": null
  },
  {
   "metadata": {},
   "cell_type": "code",
   "source": [
    "#ndim\n",
    "a1.ndim"
   ],
   "id": "bd79c70fdf000e55",
   "outputs": [],
   "execution_count": null
  },
  {
   "metadata": {},
   "cell_type": "code",
   "source": [
    "#shape\n",
    "print(a3.shape)\n",
    "a3"
   ],
   "id": "ac724c48499725b2",
   "outputs": [],
   "execution_count": null
  },
  {
   "metadata": {},
   "cell_type": "code",
   "source": [
    "#size\n",
    "a3.size"
   ],
   "id": "c319275c8d328564",
   "outputs": [],
   "execution_count": null
  },
  {
   "metadata": {},
   "cell_type": "code",
   "source": [
    "#itemsize\n",
    "a2.itemsize"
   ],
   "id": "103d358616df8256",
   "outputs": [],
   "execution_count": null
  },
  {
   "metadata": {},
   "cell_type": "code",
   "source": [
    "#dtype\n",
    "print(a1.dtype)\n",
    "print(a2.dtype)\n",
    "print(a3.dtype)"
   ],
   "id": "efdcb3f7ab8dc98f",
   "outputs": [],
   "execution_count": null
  },
  {
   "metadata": {},
   "cell_type": "markdown",
   "source": "Changing Datatype",
   "id": "d6b2878413047331"
  },
  {
   "metadata": {},
   "cell_type": "code",
   "source": [
    "#astype\n",
    "a3.astype(np.int32)"
   ],
   "id": "a2d4023d4655762c",
   "outputs": [],
   "execution_count": null
  },
  {
   "metadata": {},
   "cell_type": "markdown",
   "source": "Array Operations",
   "id": "2d11d7f39062e3dd"
  },
  {
   "metadata": {},
   "cell_type": "code",
   "source": [
    "a1 = np.arange(12).reshape(3,4)\n",
    "a2 = np.arange(12,24).reshape(3,4)\n",
    "\n",
    "print(a1)"
   ],
   "id": "c245e3f4c8e5dd79",
   "outputs": [],
   "execution_count": null
  },
  {
   "metadata": {},
   "cell_type": "code",
   "source": [
    "#scalar operations\n",
    "\n",
    "#arithmetic\n",
    "print(a1+2)"
   ],
   "id": "aa4053e07a792c9e",
   "outputs": [],
   "execution_count": null
  },
  {
   "metadata": {},
   "cell_type": "code",
   "source": [
    "#relational\n",
    "a2>5"
   ],
   "id": "641843a7591f9e3d",
   "outputs": [],
   "execution_count": null
  },
  {
   "metadata": {},
   "cell_type": "code",
   "source": [
    "#vector operations\n",
    "#arthimetic\n",
    "\n",
    "print(a1+a2)\n",
    "# a1+a2"
   ],
   "id": "3d38ed3ffb108895",
   "outputs": [],
   "execution_count": null
  },
  {
   "metadata": {},
   "cell_type": "markdown",
   "source": "Array Function",
   "id": "4d6b1630013a0a7"
  },
  {
   "metadata": {},
   "cell_type": "code",
   "source": [
    "a1 = np.random.random((3,3))\n",
    "a1 = np.round(a1*100)\n",
    "a1"
   ],
   "id": "5536163f30ec1725",
   "outputs": [],
   "execution_count": null
  },
  {
   "metadata": {},
   "cell_type": "code",
   "source": [
    "#max/min/sum/prod\n",
    "np.max(a1)\n",
    "\n",
    "#for max/min/sum/prod in a specific row and column\n",
    "#0 -> col and 1 -> row\n",
    "np.max(a1,axis=1)"
   ],
   "id": "21996e63d1f6772a",
   "outputs": [],
   "execution_count": null
  },
  {
   "metadata": {},
   "cell_type": "code",
   "source": [
    "# mean/median/std/var\n",
    "np.mean(a1)"
   ],
   "id": "68f040fce5080bf6",
   "outputs": [],
   "execution_count": null
  },
  {
   "metadata": {},
   "cell_type": "code",
   "source": [
    "# trigonometric function\n",
    "np.sin(a1)"
   ],
   "id": "6138978d38d717be",
   "outputs": [],
   "execution_count": null
  }
 ],
 "metadata": {
  "kernelspec": {
   "display_name": "Python 3",
   "language": "python",
   "name": "python3"
  },
  "language_info": {
   "codemirror_mode": {
    "name": "ipython",
    "version": 2
   },
   "file_extension": ".py",
   "mimetype": "text/x-python",
   "name": "python",
   "nbconvert_exporter": "python",
   "pygments_lexer": "ipython2",
   "version": "2.7.6"
  }
 },
 "nbformat": 4,
 "nbformat_minor": 5
}
