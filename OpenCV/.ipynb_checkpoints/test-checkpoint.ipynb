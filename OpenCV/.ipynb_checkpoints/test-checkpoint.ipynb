{
 "cells": [
  {
   "cell_type": "code",
   "execution_count": 1,
   "metadata": {},
   "outputs": [],
   "source": [
    "import os\n",
    "import cv2\n",
    "import numpy as np\n",
    "import matplotlib.pyplot as plt\n",
    "\n",
    "from zipfile import ZipFile\n",
    "from urllib.request import urlretrieve\n",
    "\n",
    "from IPython.display import Image\n",
    "\n",
    "%matplotlib inline"
   ]
  },
  {
   "cell_type": "code",
   "execution_count": null,
   "metadata": {},
   "outputs": [],
   "source": [
    "img = cv2.imread(\"New_Zealand_Lake_SAVED.png\", 1)\n",
    "img = cv2.cvtColor(img, cv2.COLOR_BGR2GRAY)\n",
    "plt.imshow(img)\n",
    "plt.show()"
   ]
  },
  {
   "cell_type": "code",
   "execution_count": 4,
   "metadata": {},
   "outputs": [
    {
     "name": "stdout",
     "output_type": "stream",
     "text": [
      "[[240]\n",
      " [ 34]]\n",
      "[[240]\n",
      " [255]]\n"
     ]
    }
   ],
   "source": [
    "arr1 = np.array([200, 250], dtype=np.uint8).reshape(-1, 1)\n",
    "arr2 = np.array([40, 40], dtype=np.uint8).reshape(-1, 1)\n",
    "add_numpy = arr1+arr2\n",
    "add_cv2 = cv2.add(arr1, arr2)\n",
    "print(add_numpy)\n",
    "print(add_cv2)"
   ]
  },
  {
   "cell_type": "code",
   "execution_count": 2,
   "metadata": {},
   "outputs": [
    {
     "name": "stdout",
     "output_type": "stream",
     "text": [
      "Error: Could not open video source.\n"
     ]
    },
    {
     "name": "stderr",
     "output_type": "stream",
     "text": [
      "OpenCV: Couldn't read video stream from file \"--f=/Users/priyanshu/Library/Jupyter/runtime/kernel-v3065dd076056c6617667f301957464d716ddc81b9.json\"\n",
      "[ WARN:0@75.343] global cap.cpp:217 open VIDEOIO(AVFOUNDATION): backend is generally available but can't be used to capture by name\n"
     ]
    },
    {
     "ename": "SystemExit",
     "evalue": "1",
     "output_type": "error",
     "traceback": [
      "An exception has occurred, use %tb to see the full traceback.\n",
      "\u001b[0;31mSystemExit\u001b[0m\u001b[0;31m:\u001b[0m 1\n"
     ]
    }
   ],
   "source": [
    "import cv2\n",
    "import sys\n",
    "\n",
    "s = 0  # Default camera\n",
    "if len(sys.argv) > 1:\n",
    "    try:\n",
    "        s = int(sys.argv[1])  # Convert to int for camera index\n",
    "    except ValueError:\n",
    "        s = sys.argv[1]  # Assume it's a file path\n",
    "\n",
    "source = cv2.VideoCapture(s, cv2.CAP_AVFOUNDATION)  # Use macOS backend\n",
    "\n",
    "if not source.isOpened():\n",
    "    print(\"Error: Could not open video source.\")\n",
    "    sys.exit(1)\n",
    "\n",
    "win_name = 'Camera Preview'\n",
    "cv2.namedWindow(win_name, cv2.WINDOW_AUTOSIZE)\n",
    "\n",
    "while True:\n",
    "    if cv2.waitKey(1) & 0xFF == 27:  # Escape key to exit\n",
    "        break\n",
    "\n",
    "    has_frame, frame = source.read()\n",
    "    if not has_frame:\n",
    "        print(\"Error: No frame received.\")\n",
    "        break\n",
    "\n",
    "    cv2.imshow(win_name, frame)\n",
    "\n",
    "source.release()\n",
    "cv2.destroyAllWindows()\n"
   ]
  }
 ],
 "metadata": {
  "kernelspec": {
   "display_name": "base",
   "language": "python",
   "name": "python3"
  },
  "language_info": {
   "codemirror_mode": {
    "name": "ipython",
    "version": 3
   },
   "file_extension": ".py",
   "mimetype": "text/x-python",
   "name": "python",
   "nbconvert_exporter": "python",
   "pygments_lexer": "ipython3",
   "version": "3.12.7"
  }
 },
 "nbformat": 4,
 "nbformat_minor": 2
}
